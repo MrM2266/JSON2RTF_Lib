{
 "cells": [
  {
   "cell_type": "markdown",
   "id": "optical-adobe",
   "metadata": {},
   "source": [
    "**JSON2RTF**"
   ]
  },
  {
   "cell_type": "markdown",
   "id": "alert-mixer",
   "metadata": {
    "tags": []
   },
   "source": [
    "# Úvod\n",
    "Cílem aplikace je vytvořit z přijatých vstupních souborů (data v JSON a formulář v rtf) vyplněný výstupní soubor rtf. Příkladem praktického využití je situace, kdy máme v JSON uloženou databázi zaměstanců a chceme z ní vytisknout určitá data - např. seznam zaměstanců, kde u každého bude uvedeno jeho bydliště. Vytvoříme si tedy pomocí MS Office Word (nebo podobného editoru) formulář, který opatříme flagy, podle kterých bude formulář vyplněn.\n",
    "<br>Aplikace se skládá z knihovny JSON2RTF_lib a serveru JSON2RTF_server který implementuje JSON2RTF_lib. Server zajišťuje příjem vstupních souborů a odeslání výstupního souboru. Zároveň implementuje funkce pro zabezpečení pomocí tokenu. Knihovna pak slouží pro samotné zpracování přijatých souborů do výsledného vyplněného formuláře.\n",
    "<br>Pro demonstaraci funkčnosti obsahuje aplikace testovací stránku na platformě Swagger, které umožňuje nahrát vybrané soubory a zobrazit výstup.\n",
    "<br>Pro správnou funkčnost aplikce je nutné, aby uživatel byl poučený a veděl, jak správně napsat vstupní formulář - aplikace neobsahuje funkce pro kontrolu kompatibility rtf a JSON."
   ]
  },
  {
   "cell_type": "markdown",
   "id": "broken-tournament",
   "metadata": {},
   "source": [
    "# Nasazení aplikace\n",
    "Aplikace je z důvodu zajištění kompatibility provozována v prostředí Docker. Obsahuje jak soubor DOCKERFILE pro vytvoření image, tak i docker-compose.yaml který slouží ke spuštení kontejneru.\n",
    "<br>Pro spuštění aplikace je nutné v adresáři s aplikací použít příkaz docker-compose up\n",
    "<br>UI aplikace je pak defaultně na localhost:80\\docs\n",
    "<br>Aplikace je publikována pod MIT licencí na __[GitHub](https://github.com/MrM2266/JSON2RTF_Lib)__ a __[hub.docker.com](https://hub.docker.com/repository/docker/marek2266/json2rtf_server)__"
   ]
  },
  {
   "cell_type": "markdown",
   "id": "identified-pollution",
   "metadata": {},
   "source": [
    "## Docker\n",
    "Pro zajištění kompatibilty je nutné mít naistalovaný Docker a Docker Compose (na Windows oba součástí Docker Hub). Adresu a port, na kterém bude aplikace dostupná v rámci kontejneru, je možné nastavit v DOCKERFILE - obsahuje parametr pro uvicorn a FastAPI.\n",
    "<br>Adresu a port, na kterém bude aplikace dostupná z hostitelského pc (nebo v rámci sítě) je možné nastavit v docker-compose.yaml\n",
    "<br>Pro stažení z __[hub.docker.com](https://hub.docker.com/repository/docker/marek2266/json2rtf_server)__ je možné použít příkaz: docker pull marek2266/json2rtf_server:latest"
   ]
  },
  {
   "cell_type": "markdown",
   "id": "linear-beast",
   "metadata": {},
   "source": [
    "## UI\n",
    "Součástí aplikace je jednoduché UI, které je ve výchozím nastavení dostupné na localhost:80/docs. Umožňuje nahrát vstupní soubory a zobrazit výstup. Jedná se o testovací prostředí vytvořené pomocí FastAPI a Swagger. Je zde také možné otestovat zabezpečení pomocí tokenu.<br>\n",
    "<br> Defaultní údaje:<br>Username: jirka<br>Login: secret"
   ]
  },
  {
   "cell_type": "markdown",
   "id": "liberal-powder",
   "metadata": {},
   "source": [
    "# JSON file\n",
    "Podle IESG Standarts Track 2070-1721 RFC8259 může JSON soubor obsahovat pouze value. Value může být: number, string, boolean, array, object a null. Každý json soubor může obsahovat jen jednu value. Jednotlivé value je možné do sebe libovolně vnořovat.\n",
    "<br><br>**Pro správné zobrazení diakritiky je nutné json uložit s formátováním Windows-1250 (cp1250)**\n",
    "<br>\n",
    "<br>**array**\n",
    "<br>- je to seřazený soubor hodnot, značí se [ ]\n",
    "<br>- k hodnotám je možné přistoupit pomocí jejich indexu (key = index)\n",
    "<br>- v poli mohou být pouze hodnoty oddělené čárkou - tzn. number, string, boolean, array, object a null - [10, \"text\",true, [ ], { }, null] - prvky pole mají jen index\n",
    "<br>\n",
    "<br>**object**\n",
    "<br>- je to neuspořádaný soubor hodnot, značí se { }\n",
    "<br>- k hodnotám je možné přistoupit pomocí jejich key\n",
    "<br>- prvky jsou ve tvaru \"key\":\"value\" kde value je number, string, boolean, array, object nebo null\n",
    "<br>- prvky se oddělují čárkou\n",
    "<br>{\n",
    "<br>\t\"number\":8,\n",
    "<br>\t\"string\":\"text\",\n",
    "<br>\t\"boolean\":true,\n",
    "<br>\t\"object\":{},\n",
    "<br>\t\"array\":[],\n",
    "<br>\t\"null\":null\n",
    "<br>}\n",
    "<br>\n",
    "<br>**number**\n",
    "<br>- je to jakékoliv číslo\n",
    "<br>- př. 26\n",
    "<br>\n",
    "<br>**string**\n",
    "<br>- je to jakýkoliv text\n",
    "<br>- př. \"text\"\n",
    "<br>\n",
    "<br>**boolean**\n",
    "<br>- true nebo false\n",
    "<br>\n",
    "<br>**null**\n",
    "<br>- pouze null"
   ]
  },
  {
   "cell_type": "markdown",
   "id": "stuffed-unknown",
   "metadata": {},
   "source": [
    "# Flagy v RTF\n",
    "Pro označení míst, která mají být ve výtupním rtf nahrazena daty z JSON je nutné použít flagy. Flagy se píší do vstupního formuláře. Cílem flagu je označit místo, které má být nahrazeno daty z JSON a popsat, kde se požadovaná data v JSON nacházejí. JSON soubor má strukturu úrovní - je možné vnořovat libovolně prvky do sebe. Flagy definují úroveň (level), ve které se hledaná data nacházejí.\n",
    "<br>\n",
    "<br>\n",
    "<br>Sytax flagů se řídí následujícími pravidly, která částečně vycházejí z pravidel pro JSON:\n",
    "1. Nejvyšší úroveň json i rtf se nazývá root\n",
    "1. Flagy se vždy píší do hranatých závorek ve tvaru [[flag:key]]\n",
    "1. v rootu musí být pouze jedno pole nebo jeden objekt\n",
    "1. součástí flagu je key, který obsahuje název konkrétní struktury v JSON např. [[A:pole]] - zde key = pole\n",
    "1. prvky pole mají index - jako key se používá slovo null - př. [[O:null]][[E:null]] označuje objekt v poli\n",
    "1. key musí být unikátní v rámci levelu\n",
    "1. jako key v json nelze použít null\n",
    "1. každá struktura kromě item musí mít end flag"
   ]
  },
  {
   "cell_type": "markdown",
   "id": "enabling-awareness",
   "metadata": {},
   "source": [
    "<br><br><br>Rozlišujeme následující flagy:\n",
    "<br>\n",
    "<br>**end**\n",
    "<br>[[E:key]]\n",
    "<br>- označuje konec struktury\n",
    "<br>\n",
    "<br>**object**\n",
    "<br>[[O:key]] - označuje začátek objektu key - program vyhledá v aktuální úrovni json souboru objekt auto a vstoupí do něj\n",
    "<br>[[E:key]] - označuje konec objektu key - program ukončí hledání v objektu auto a přesune se v json souboru o úroveň nahoru\n",
    "<br>- odpovídá hodnotě object v json\n",
    "<br>\n",
    "<br>**array**\n",
    "<br>[[A:key]] - označuje začátek pole key - program přejde z aktuálního levelu v json souboru do pole key\n",
    "<br>[[E:key]] - označuje konec pole key - program se přesune v json souboru o level nahoru\n",
    "<br>- Flag array je specifický tím, že kód, který je mezi start flagem [[A:lide]] a end flagem [[E:lide]] se provede pro každý prvek pole.\n",
    "<br>- Program spočítá počet prvků v json (např. pole lide obsahuje v json 5 objektů) a provede zadaný kód 5x -> kód mezi [[A:key]] a [[E:key]] se provede 5x po sobě, pokaždé pro jeden prvek pole key\n",
    "<br>- odpovídá hodnotě array v json\n",
    "<br>\n",
    "<br>**item**\n",
    "<br>[[I:key]]\n",
    "<br>- označuje místo, které se má nahradit z json konkrétními daty - program v json objektu najde položku s názvem key a místo [[I:key]] doplní data z json\n",
    "<br>- odpovídá hodnotám number, string, boolean, null v json\n",
    "<br>\n",
    "<br>\n",
    "<br>\n",
    "<br>Možné kombinace a jejich zápis pomocí flagů:\n",
    "<br>\n",
    "<br>**Root může obsahovat:**\n",
    "<br>[[A:root]] - nepojmenované pole v rootu; end flag [[E:root]]\n",
    "<br>[[O:root]] - nepojmenovaný objekt v rootu;end flag [[E:root]]\n",
    "<br>\n",
    "<br>**Array může obsahovat:**\n",
    "<br>[A:null]] - nepojmenované pole v poli; end flag [[E:null]]\n",
    "<br>[[O:null]] - nepojmenovaný objekt v poli; end flag [[E:null]]\n",
    "<br>[[I:index]] - index čísla, stringu nebo booleanu pro vypsání\n",
    "<br>\n",
    "<br>**Object může obsahovat:**\n",
    "<br>[[A:key]] - pro pole v objektu - musí být pojmenované (musí mít strukturu key:value); end flag [[E:key]]\n",
    "<br>[[O:key]] - pro objekt v objektu - musí bý pojmenovaný; end flag [[E:key]]\n",
    "<br>[[I:key]] - pro string, číslo, boolean v objektu - musí být pojmenovaný\n",
    "<br>\n",
    "<br>**Vypsání všech prvků pole:**\n",
    "<br>- v json máme pole, které obsahuje pouze stringy, nebo čísla - chceme celé pole vypsat\n",
    "<br>- pomocí flagů [[A:key]][[E:key]] spustíme na poli key fci ArrayAsString, která vypíše prvky pole jako stringy oddělené čárkami"
   ]
  },
  {
   "cell_type": "markdown",
   "id": "integrated-background",
   "metadata": {},
   "source": [
    "# Postup při vytváření šablony pro vyplnění\n",
    "1. V MS Word vytvoříme šablonu - s formátováním, tabulkami atd. - uložíme jako rtf\n",
    "1. Šablonu otevřeme v notepadu - dopíšeme flagy a uložíme jako rtf\n",
    "1. odešleme spolu s příslušným JSON na server<br><br><br>"
   ]
  },
  {
   "cell_type": "markdown",
   "id": "julian-girlfriend",
   "metadata": {},
   "source": [
    "# Popis funkcionality knihovny JSON2RTF_lib\n",
    "Tato kapitola se bude věnovat hlubšímu popisu knihovny. Bude ilustrovat jednotlivé funkce a popíše způsob, jakým jsou soubory zpracovány."
   ]
  },
  {
   "cell_type": "markdown",
   "id": "spread-butter",
   "metadata": {},
   "source": [
    "## Obecně\n",
    "Knihovna obsahuje dvě základní třídy CData a CjsonReader. Třída CData má dvě instance - input a output. Slouží pro uložení vstupního a výstupního rtf jako string. Třída má proměnnou m_data, která obsahuje rtf. Poskytuje základní metody - LoadData a Add. Díky nim umí input i output načíst data a přidat si do m_data část vygenerovaného rtf.\n",
    "<br>Třída CjsonReader zajišťuje \"pohyb\" v json souboru a čtení dat z něj. Poskytuje metody Down, Up a NextElement  pro \"pohyb\" v levelech JSON a metody GetArraySize a GetRootSize pro zjištění velikosti polí. Metody GetArrayAsString a GetRootAsString vracejí prvky pole jako string. Metoda GetItem pak vrací data z JSON objektu.\n",
    "<br><br>Obecně knihovna funguje tak, že celý rtf soubor se předá do fce Process. Ta najde první start flag v řetezci input. Vše co je před start flagem přidá do output. K start flagu najde odpovídající end flag. Vše co je před end flagem odstarní z input (data jsou zpracována). Podle flagu (A, O, I) spustí odpovídající funkci - Array, Object, Item a předá jí vše, co je mezi start flagem a end flagem. Funkce spuštná podle flagu (Array, Object, Item) opět předává svou část do fce Process -> je možné jít do libovolné úrovně JSON - JSON se neustále \"rozbaluje\".\n",
    "<br>Funkce se takto volají neustále mezi sebou, až string m_data v input neobsahuje žádné znaky - výsledný rtf je zpracovaný."
   ]
  },
  {
   "cell_type": "markdown",
   "id": "steady-symphony",
   "metadata": {},
   "source": [
    "## Hledání Flagů\n",
    "Chceme zpracovat rtf soubor uložený ve stringu inputRTF"
   ]
  },
  {
   "cell_type": "code",
   "execution_count": 45,
   "id": "powerful-fiction",
   "metadata": {},
   "outputs": [],
   "source": [
    "inputRTF = \"rtf kod se speciálními znaky ,.ů§/*86 [[O:auto]] kod objektu auto[[E:auto]] pokračování rtf kódu\""
   ]
  },
  {
   "cell_type": "markdown",
   "id": "broad-nightmare",
   "metadata": {},
   "source": [
    "<br>Nejprve si definujeme třídu CData, jejíž instance budou input a output - bude se starat o vstupní a výstupní rtf."
   ]
  },
  {
   "cell_type": "code",
   "execution_count": 46,
   "id": "improved-waterproof",
   "metadata": {},
   "outputs": [],
   "source": [
    "class CData:\n",
    "    def __init__(self):\n",
    "        self.m_data=\"\"\n",
    "\n",
    "    def Add(self, add):\n",
    "        \"\"\"Gets a string that is added to m_data\n",
    "\t\n",
    "\t    Args:\n",
    "\t\tadd: value that is added to m_data\n",
    "\t    \"\"\"\n",
    "        self.m_data += str(add)\n",
    "\n",
    "    def LoadData(self, data):\n",
    "        \"\"\"Takes rtf file as a string and stores it into m_data\n",
    "\t\n",
    "\t    Args:\n",
    "\t\t    data: rtf as string - from fastAPI\n",
    "\t    \"\"\"\n",
    "        self.m_data = data"
   ]
  },
  {
   "cell_type": "markdown",
   "id": "bound-hammer",
   "metadata": {},
   "source": [
    "<br>Vyhledáme první start flag - fce FlagStart vrací array ve tvaru [flag, key, počátek start flagu, konec start flagu]. String inpurRTF získáme např. z FastAPI"
   ]
  },
  {
   "cell_type": "code",
   "execution_count": 47,
   "id": "binary-writer",
   "metadata": {},
   "outputs": [
    {
     "name": "stdout",
     "output_type": "stream",
     "text": [
      "Flag: O\n",
      "Key: auto\n",
      "Pozice prvního znaku start flagu: 38\n",
      "Pozice posledního znaku start flagu: 48\n"
     ]
    }
   ],
   "source": [
    "import re\n",
    "\n",
    "def FlagStart(data):\n",
    "     \"\"\"Finds the first flag in a string of data and finds out information  \n",
    "     \n",
    "     Information: What flag is it, it's key, beginning and end\n",
    "\t  \n",
    "     Args:\n",
    "         data: String of data you want to find the information about\n",
    "     \n",
    "     Returns:\n",
    "         [flag, key, match.start(), match.end()]: if the functions finds out the information\n",
    "         None: if the function doesn't find out any information  \n",
    "     \"\"\"\n",
    "     match = re.search(\"\\[{2}((A:[a-zA-Z0-9]+)|(O:[a-zA-Z0-9]+)|(I:[a-zA-Z0-9]+))\\]{2}\", data)\n",
    "     if match:\n",
    "         flag = data[match.start() + 2 : match.start() + 3]\n",
    "         key = data[match.start() + 4 : match.end() - 2]\n",
    "         return [flag, key, match.start(), match.end()]\n",
    "     else:\n",
    "         return None\n",
    "\n",
    "input = CData()\n",
    "output = CData()\n",
    "input.LoadData(inputRTF)\n",
    "\n",
    "outputStart = FlagStart(input.m_data)\n",
    "\n",
    "print(f\"Flag: {outputStart[0]}\")\n",
    "print(f\"Key: {outputStart[1]}\")\n",
    "print(f\"Pozice prvního znaku start flagu: {outputStart[2]}\")\n",
    "print(f\"Pozice posledního znaku start flagu: {outputStart[3]}\")"
   ]
  },
  {
   "cell_type": "markdown",
   "id": "painful-tulsa",
   "metadata": {},
   "source": [
    "<br>Funkce vyhledala v řetězci první start flag a jako výstup předává všechny potřebné informace - key, pozice prvního a posledního znaku.\n",
    "<br>Pomocí funkce FlagEnd vyhledáme na zadaném řetězci end flag s konkrétním key"
   ]
  },
  {
   "cell_type": "code",
   "execution_count": 48,
   "id": "labeled-delaware",
   "metadata": {},
   "outputs": [
    {
     "name": "stdout",
     "output_type": "stream",
     "text": [
      "Pozice prvního znaku end flagu: 65\n",
      "Pozice posledního znaku end flagu: 75\n"
     ]
    }
   ],
   "source": [
    "def FlagEnd(data, key):\n",
    "    \"\"\"Returns the positon of the ending tag\n",
    "\t\n",
    "    Args:\n",
    "        data: String of data in which you want to find the position of the ending tag\n",
    "        key: Value of the ending tag\n",
    "\n",
    "    Returns:\n",
    "        Positon of the ending tag\n",
    "        Beginning and ending of the tag\n",
    "    \"\"\"\n",
    "    if (key == \"null\"):\n",
    "        list = []\n",
    "        start=[]\n",
    "        end=[]\n",
    "\n",
    "        for match in re.finditer(\"\\[{2}(A|O):null\\]{2}\", data):\n",
    "            s = match.start()\n",
    "            list.append(s)\n",
    "            start.append(s)\n",
    "        for match in re.finditer(\"\\[{2}E:null\\]{2}\", data):\n",
    "            s = match.start()\n",
    "            list.append(s)\n",
    "            end.append(s)\n",
    "\n",
    "        list.sort()\n",
    "        count=0\n",
    "\n",
    "        for i in list:\n",
    "            if i in start:\n",
    "                count += 1\n",
    "            if i in end:\n",
    "                count -= 1\n",
    "            if (count == 0):\n",
    "                return [i,i+10]\n",
    "    else:\n",
    "        str = \"[[E:\" + key + \"]]\"\n",
    "        return [data.find(str), data.find(str) + len(str)]\n",
    "    \n",
    "\n",
    "outputEnd = FlagEnd(inputRTF, outputStart[1])\n",
    "\n",
    "print(f\"Pozice prvního znaku end flagu: {outputEnd[0]}\")\n",
    "print(f\"Pozice posledního znaku end flagu: {outputEnd[1]}\")"
   ]
  },
  {
   "cell_type": "markdown",
   "id": "bridal-tooth",
   "metadata": {},
   "source": [
    "<br><br>Výstup z obou funkcí používá funkce Process, která předá část vstupního rtf do výstupu, odstraní flagy a kód mezi nimi předá do příslušné funkce. Funkce jsou uvedené v modifikované podobě - pouze zobrazují data, která přijímají jako parametry."
   ]
  },
  {
   "cell_type": "code",
   "execution_count": 49,
   "id": "extensive-constitution",
   "metadata": {},
   "outputs": [
    {
     "name": "stdout",
     "output_type": "stream",
     "text": [
      "Funkce Object\n",
      "=============================================\n",
      "Key k vyhledání v json: auto\n",
      "Kód objektu:  kod objektu auto\n"
     ]
    }
   ],
   "source": [
    "def Process(data):\n",
    "    \"\"\"Takes string data and finds the first tag from the beginning (start tag) and corresponding end tag\n",
    "    Text that is before start flag is added to output\n",
    "    Text that is after end flag is left for another loop\n",
    "    The code between the start flag and the end flag is passed into Process function again\n",
    "\n",
    "    Args:\n",
    "        data: string to process\n",
    "\n",
    "    Returns:\n",
    "        str: text that is after the end flag - code for another loop\n",
    "    \"\"\"\n",
    "\n",
    "    start = FlagStart(data)\n",
    "    if start != None:\n",
    "        output.Add(data[0:start[2]])\n",
    "    \n",
    "        if start[0] != \"I\":\n",
    "            end = FlagEnd(data, start[1])\n",
    "            if start[0] == \"A\":\n",
    "                Array(data[start[3]:end[0]], start[1])\n",
    "            if start[0] == \"O\":\n",
    "                Object(data[start[3]:end[0]], start[1])\n",
    "            return data[end[1]:]\n",
    "        else:\n",
    "            Item(start[1])\n",
    "            return data[start[3]:]\n",
    "    else:\n",
    "        output.Add(data)\n",
    "        return \"\"\n",
    "    \n",
    "def Array(data, key):\n",
    "    print(\"Funkce Array\\n=============================================\")\n",
    "    print(f\"Key k vyhledání v json: {key}\")\n",
    "    print(f\"Kód pole: {data}\")\n",
    "\n",
    "    \n",
    "\n",
    "def Object(data, key):\n",
    "    print(\"Funkce Object\\n=============================================\")\n",
    "    print(f\"Key k vyhledání v json: {key}\")\n",
    "    print(f\"Kód objektu: {data}\")\n",
    "\n",
    "\n",
    "def Item(key):\n",
    "    print(\"Funkce Key\\n=============================================\")\n",
    "    print(f\"Key k vyhledání v json: {key}\")\n",
    "\n",
    "\n",
    "input.m_data = Process(input.m_data)"
   ]
  },
  {
   "cell_type": "markdown",
   "id": "distinct-issue",
   "metadata": {},
   "source": [
    "<br>V tuto chvíli jsme schopni dekódovat první úroveň flagů. Funkce Array a Object ve skutečnosti nezobrazují výstup, ale znovu svůj kód předají do funkce Process - v kódu např. objektu dojde k vyhledání dalších struktur a spuštění příslušných funkcí - v objektu je např. pole -> funkce Process spustí funkci Array - ta opět provede analýzu svého kódu pomocí Process -> kód může jít do libovolné úrovně.\n",
    "<br>V tomto příkladu popíšeme pouze práci s první úrovní - inputRTF obsahuje pouze jednu dvojici start flag - end flag<br><br>"
   ]
  },
  {
   "cell_type": "markdown",
   "id": "original-mistake",
   "metadata": {},
   "source": [
    "## Vyhledávání v JSON\n",
    "Budeme ilustrovat funkci třídy CjsonReader na stringu inputJson, který obsahuje vstupní JSON soubor (např. z FastAPI)"
   ]
  },
  {
   "cell_type": "code",
   "execution_count": 50,
   "id": "better-brighton",
   "metadata": {},
   "outputs": [],
   "source": [
    "inputJson = \"\"\"\n",
    "{\n",
    "  \"states\": [\n",
    "    {\n",
    "      \"name\": \"Alabama\",\n",
    "      \"abbreviation\": \"AL\",\n",
    "      \"areaCodes\": [ \"205\", \"251\", \"256\", \"334\", \"938\" ]\n",
    "    },\n",
    "    {\n",
    "      \"name\": \"Alaska\",\n",
    "      \"abbreviation\": \"AK\",\n",
    "      \"areaCodes\": [ \"907\" ]\n",
    "    },\n",
    "    {\n",
    "      \"name\": \"Arizona\",\n",
    "      \"abbreviation\": \"AZ\",\n",
    "      \"areaCodes\": [ \"480\", \"520\", \"602\", \"623\", \"928\" ]\n",
    "    },\n",
    "    {\n",
    "      \"name\": \"Arkansas\",\n",
    "      \"abbreviation\": \"AR\",\n",
    "      \"areaCodes\": [ \"479\", \"501\", \"870\" ]\n",
    "    }]\n",
    "}\n",
    "\"\"\""
   ]
  },
  {
   "cell_type": "markdown",
   "id": "peripheral-philippines",
   "metadata": {},
   "source": [
    "Definujeme si třídu CjsonReader, který bude zajišťovat práci s JSON souborem a vyhledávání v něm."
   ]
  },
  {
   "cell_type": "code",
   "execution_count": 51,
   "id": "quick-shock",
   "metadata": {},
   "outputs": [],
   "source": [
    "import json\n",
    "\n",
    "class CjsonReader:\n",
    "    def __init__(self):\n",
    "        self.m_levels = [] #list of individual levels, current is always the last item of the array\n",
    "        self.m_level = 0\n",
    "        self.m_indexes = [0] #list of indexes (index 0 contains value 2 -> I'am on an index 2 on level 0\n",
    "\n",
    "    def LoadData(self, jsonString, decode):\n",
    "        \"\"\"Takes JSON as bytes. If decode is 1 JSON is decoded using ANSI and then stored into m_levels.\n",
    "\n",
    "        Args:\n",
    "            jsonString: jsonFile as bytes - from fastAPI\n",
    "            decode: parameter; if 1 -> string is decoded using cp1250; if 0 -> string is stored without decoding\n",
    "        \"\"\"\n",
    "        if (decode == 1):\n",
    "            self.m_levels.append(json.loads(str(jsonString, 'cp1250')))\n",
    "        else:\n",
    "            self.m_levels.append(json.loads(jsonString))\n",
    "\n",
    "    def Down(self, key):\n",
    "        \"\"\"Gets you down a level to entered key or index\n",
    "        \n",
    "\t    Args:\n",
    "\t\t    key: Index or key you want to step down to \n",
    "\t    \"\"\"\n",
    "        self.m_levels.append(self.m_levels[self.m_level][key])\n",
    "        self.m_indexes.append(0)\n",
    "        self.m_level += 1\n",
    "\n",
    "    def Up(self):\n",
    "        \"\"\"Gets you up a level\n",
    "\t    \"\"\"\n",
    "        if self.m_level > 0:\n",
    "            del self.m_levels[-1]\n",
    "            del self.m_indexes[-1]\n",
    "            self.m_level -= 1\n",
    "\n",
    "    def GetItem(self, key):\n",
    "        \"\"\"Returns string from JSON dictionary\n",
    "\t\n",
    "\t    Args:\n",
    "\t        key: JSON dictionary key to find desired string\n",
    "\n",
    "\t    Returns:\n",
    "\t\t    str: string found under parameter key\n",
    "        \"\"\"\n",
    "        return self.m_levels[self.m_level][key]\n",
    "\n",
    "    def GetArraySize(self, key):\n",
    "        \"\"\"Returns the size of an array\n",
    "\t\n",
    "\t    Args:\n",
    "            key: Key of an array you want to get the size of\n",
    "\n",
    "\t    Returns:\n",
    "\t\t    int: Size of an array\n",
    "        \"\"\"\n",
    "        return len(self.m_levels[self.m_level][key])\n",
    "\n",
    "    def GetRootSize(self):\n",
    "        \"\"\"Returns the size of root array\n",
    "\n",
    "\t    Returns:\n",
    "\t\t    int: Size of root\n",
    "        \"\"\"\n",
    "        return len(self.m_levels[0])\n",
    "\n",
    "    def GetArrayAsStr(self, key):\n",
    "        \"\"\"Returns array as one string - elements are separated with ,\n",
    "\t\n",
    "\t    Args:\n",
    "            key: Key of an array you want to get as a string\n",
    "\n",
    "\t    Returns:\n",
    "\t\t    int: Size of anarray\n",
    "        \"\"\"\n",
    "        result = \"\"\n",
    "        for i in self.m_levels[self.m_level][key]:\n",
    "            result = result + str(i) + \", \"\n",
    "        return result[:-2]\n",
    "\n",
    "    def GetRootAsStr(self):\n",
    "        \"\"\"Returns root array as one string - elements are separated with ,\n",
    "\t\n",
    "\t    Args:\n",
    "            key: Key of an array you want to get as a string\n",
    "\n",
    "\t    Returns:\n",
    "\t\t    int: Size of root\n",
    "        \"\"\"\n",
    "        result = \"\"\n",
    "        for i in self.m_levels[0]:\n",
    "            result = result + str(i) + \", \"\n",
    "        return result[:-2]\n",
    "\n",
    "    def NextElement(self):\n",
    "        \"\"\"Moves you one item forward in current level (only in array)\n",
    "        \"\"\"\n",
    "        self.m_indexes[self.m_level] += 1\n",
    "\n",
    "    def GetIndex(self):\n",
    "        \"\"\"Returns index of processing element on current level\n",
    "\n",
    "        Returns:\n",
    "            int: index of an element\n",
    "        \"\"\"\n",
    "        return self.m_indexes[self.m_level]"
   ]
  },
  {
   "cell_type": "markdown",
   "id": "accurate-petite",
   "metadata": {},
   "source": [
    "V následujícím kódu si vytvoříme instanci třídy CjsonReader a pomocí jejích metod budeme zobrazovat data z inputJson."
   ]
  },
  {
   "cell_type": "code",
   "execution_count": 52,
   "id": "infinite-procedure",
   "metadata": {},
   "outputs": [
    {
     "name": "stdout",
     "output_type": "stream",
     "text": [
      "Data z prvku 0\n",
      "==================================\n",
      "Alabama\n",
      "AL\n",
      "205, 251, 256, 334, 938\n",
      "\n",
      "\n",
      "Data z prvku 1\n",
      "==================================\n",
      "Alaska\n",
      "AK\n",
      "907\n",
      "\n",
      "\n",
      "Data z prvku 2\n",
      "==================================\n",
      "Arizona\n",
      "AZ\n",
      "480, 520, 602, 623, 928\n",
      "\n",
      "\n",
      "Seznam států v json\n",
      "==================================\n",
      "Alabama\n",
      "Alaska\n",
      "Arizona\n",
      "Arkansas\n"
     ]
    }
   ],
   "source": [
    "jsonData = CjsonReader()\n",
    "jsonData.LoadData(inputJson, 0)\n",
    "\n",
    "jsonData.Down(\"states\") ##v souboru je objekt, který obsahuje pole states; z root objektu vstoupíme do states\n",
    "jsonData.Down(0) ##v poli states vstoupíme do prvku 0\n",
    "\n",
    "print(\"Data z prvku 0\\n==================================\")\n",
    "print(jsonData.GetItem(\"name\")) ##vypíšeme položku name státu s indexem 0\n",
    "print(jsonData.GetItem(\"abbreviation\"))\n",
    "print(jsonData.GetArrayAsStr(\"areaCodes\")) ##vrací pole jako string\n",
    "\n",
    "jsonData.Up() ##vrátíme se o úroveň nahoru - z prvku 0 do pole states\n",
    "jsonData.Down(1) ##vstoupíme do prvku 1\n",
    "\n",
    "print(\"\\n\\nData z prvku 1\\n==================================\")\n",
    "print(jsonData.GetItem(\"name\")) ##vypíšeme položku name státu s indexem 0\n",
    "print(jsonData.GetItem(\"abbreviation\"))\n",
    "print(jsonData.GetArrayAsStr(\"areaCodes\")) ##vrací pole jako string\n",
    "\n",
    "jsonData.Up() ##vrátíme se o úroveň nahoru - z prvku 1 do pole states\n",
    "jsonData.Down(2) ##vstoupíme do prvku 2\n",
    "\n",
    "print(\"\\n\\nData z prvku 2\\n==================================\")\n",
    "print(jsonData.GetItem(\"name\")) ##vypíšeme položku name státu s indexem 0\n",
    "print(jsonData.GetItem(\"abbreviation\"))\n",
    "print(jsonData.GetArrayAsStr(\"areaCodes\")) ##vrací pole jako string\n",
    "\n",
    "jsonData.Up() ##jsme v poli states\n",
    "\n",
    "\n",
    "print(\"\\n\\nSeznam států v json\\n==================================\")\n",
    "jsonData.Up()\n",
    "pocet = jsonData.GetArraySize(\"states\") ##vrací velikost pole states\n",
    "jsonData.Down(\"states\")\n",
    "\n",
    "for i in range(0,pocet):\n",
    "    jsonData.Down(i)\n",
    "    print(jsonData.GetItem(\"name\"))\n",
    "    jsonData.Up()"
   ]
  },
  {
   "cell_type": "markdown",
   "id": "wicked-plenty",
   "metadata": {},
   "source": [
    "<br><br>\n",
    "## Generování výstupu\n",
    "Knihovna JSON2RTF_lib propojuje obě třídy dohromady a podle toho, jak čte rtf flagy, tak provádí čtení z JSON souboru. V následujícím kódu bude ukázána funkce celé knihovny. Na vstupu budeme mít dva stringy - jeden obsahuje data z vdtupního rtf formuláře a druhý obsahuje data z JSON.\n",
    "<br>V kódu bude použita hotová knihovna JSON2RTF_lib.py tak, jak jí používá JSON2RTF_server."
   ]
  },
  {
   "cell_type": "code",
   "execution_count": 53,
   "id": "informative-picking",
   "metadata": {},
   "outputs": [],
   "source": [
    "%reset -f\n",
    "\n",
    "inputJson = \"\"\"\n",
    "{\n",
    "  \"states\": [\n",
    "    {\n",
    "      \"name\": \"Alabama\",\n",
    "      \"abbreviation\": \"AL\",\n",
    "      \"areaCodes\": [ \"205\", \"251\", \"256\", \"334\", \"938\" ]\n",
    "    },\n",
    "    {\n",
    "      \"name\": \"Alaska\",\n",
    "      \"abbreviation\": \"AK\",\n",
    "      \"areaCodes\": [ \"907\" ]\n",
    "    },\n",
    "    {\n",
    "      \"name\": \"Arizona\",\n",
    "      \"abbreviation\": \"AZ\",\n",
    "      \"areaCodes\": [ \"480\", \"520\", \"602\", \"623\", \"928\" ]\n",
    "    },\n",
    "    {\n",
    "      \"name\": \"Arkansas\",\n",
    "      \"abbreviation\": \"AR\",\n",
    "      \"areaCodes\": [ \"479\", \"501\", \"870\" ]\n",
    "    }]\n",
    "}\n",
    "\"\"\""
   ]
  },
  {
   "cell_type": "code",
   "execution_count": 54,
   "id": "native-leave",
   "metadata": {},
   "outputs": [],
   "source": [
    "inputRTF = \"[[O:root]]Seznam statu \\n================\\n[[A:states]][[O:null]]Stat: [[I:name]]\\n[[E:null]][[E:states]][[E:root]]\"\n",
    "#inputRTF = \"[[O:root]]Seznam statu \\n================\\n\\n[[A:states]][[O:null]]Stat: [[I:name]]\\nKod: [[I:abbreviation]]\\nOblasti: [[A:areaCodes]][[E:areaCodes]]\\n\\n[[E:null]][[E:states]][[E:root]]\""
   ]
  },
  {
   "cell_type": "code",
   "execution_count": 55,
   "id": "fatty-capitol",
   "metadata": {},
   "outputs": [
    {
     "name": "stdout",
     "output_type": "stream",
     "text": [
      "Seznam statu \n",
      "================\n",
      "Stat: Alabama\n",
      "Stat: Alaska\n",
      "Stat: Arizona\n",
      "Stat: Arkansas\n",
      "\n"
     ]
    }
   ],
   "source": [
    "import JSON2RTF_lib as RTF\n",
    "\n",
    "RTF.Init()\n",
    "RTF.LoadJson(inputJson, 0)\n",
    "RTF.LoadRTF(inputRTF)\n",
    "\n",
    "RTF.ProcessRTF()\n",
    "\n",
    "outputRTF = RTF.GetOutput()\n",
    "\n",
    "print(outputRTF)"
   ]
  }
 ],
 "metadata": {
  "kernelspec": {
   "display_name": "Python 3",
   "language": "python",
   "name": "python3"
  },
  "language_info": {
   "codemirror_mode": {
    "name": "ipython",
    "version": 3
   },
   "file_extension": ".py",
   "mimetype": "text/x-python",
   "name": "python",
   "nbconvert_exporter": "python",
   "pygments_lexer": "ipython3",
   "version": "3.8.8"
  }
 },
 "nbformat": 4,
 "nbformat_minor": 5
}
